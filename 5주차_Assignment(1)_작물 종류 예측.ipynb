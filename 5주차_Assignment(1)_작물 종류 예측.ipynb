{
  "nbformat": 4,
  "nbformat_minor": 0,
  "metadata": {
    "colab": {
      "name": "5주차_Assignment(1)_작물 종류 예측.ipynb",
      "provenance": [],
      "authorship_tag": "ABX9TyP48wdVL/GCiPmE8htcdKWF",
      "include_colab_link": true
    },
    "kernelspec": {
      "name": "python3",
      "display_name": "Python 3"
    },
    "language_info": {
      "name": "python"
    }
  },
  "cells": [
    {
      "cell_type": "markdown",
      "metadata": {
        "id": "view-in-github",
        "colab_type": "text"
      },
      "source": [
        "<a href=\"https://colab.research.google.com/github/yunjeong-chang/2021_MachineLearning/blob/main/5%EC%A3%BC%EC%B0%A8_Assignment(1)_%EC%9E%91%EB%AC%BC%20%EC%A2%85%EB%A5%98%20%EC%98%88%EC%B8%A1.ipynb\" target=\"_parent\"><img src=\"https://colab.research.google.com/assets/colab-badge.svg\" alt=\"Open In Colab\"/></a>"
      ]
    },
    {
      "cell_type": "markdown",
      "metadata": {
        "id": "gvkgcm_mITx8"
      },
      "source": [
        "**<KNN 을 통한 분류문제>**\n",
        "\n",
        "**: 재배환경 별 작물 종류 예측**"
      ]
    },
    {
      "cell_type": "markdown",
      "metadata": {
        "id": "2jNISJrpIIE4"
      },
      "source": [
        "이상 기후, 온난화등의 문제로 기상 변화 문제로 농업의 생태계는 다양한 변화를 맞이하고 있습니다. 기후를 통제하여 안정적인 생산력을 유지하는 스마트팜과 더불어 변화하는 환경에 맞추어 적절한 작물을 찾는 시도도 필요하며, 본 과제를 통해 이러한 요구를 해결하고자 합니다. \n",
        "\n",
        "* N - 토양 내 질소 함량 비율\n",
        "* P - 토양 내 인산 함량 비율\n",
        "* K - 토양 내 칼륨 함량 비율\n",
        "* temperature - 섭씨 온도\n",
        "* humidity - 상대 습도(%)\n",
        "* ph - 토양의 ph 값\n",
        "* rainfall - 강우량 (mm)\n",
        "\n",
        "주어진 환경정보를 통해 환경에 적합한 작물을 예측해봅시다."
      ]
    },
    {
      "cell_type": "markdown",
      "metadata": {
        "id": "cnGl_NGZIYbN"
      },
      "source": [
        "평가 데이터 550 개에 대하여 총 22개의 작물 중 하나로 분류합니다.\n",
        "\n",
        "분류 결과는 sample.csv 형식에 맞추어 제출하며, train.csv의 label과 같은 string 형식으로 다음의 22개의 레이블 중 하나로 분류합니다.\n",
        "\n",
        "mothbeans, lentil, pigeonpeas, cotton, coconut, mungbean, jute, chickpea, mango, apple, blackgram, muskmelon, papaya, coffee, orange, pomegranate, kidneybeans, rice, banana, watermelon, maize, grapes\n",
        "\n",
        "제출된 평가 데이터의 예측값은 Categorical Accuracy로 평가됩니다."
      ]
    },
    {
      "cell_type": "code",
      "metadata": {
        "id": "WKFyfqS6uNy9"
      },
      "source": [
        "import seaborn as sns\n",
        "import pandas as pd\n",
        "import numpy as np\n",
        "\n",
        "from sklearn.preprocessing import LabelEncoder\n",
        "from sklearn.neighbors import KNeighborsClassifier"
      ],
      "execution_count": 108,
      "outputs": []
    },
    {
      "cell_type": "code",
      "metadata": {
        "id": "sfm2wIkhxXsg"
      },
      "source": [
        "#데이터 불러오기\n",
        "train = pd.read_csv('/content/train.csv')\n",
        "test = pd.read_csv('/content/test.csv')\n",
        "submit = pd.read_csv('/content/sample.csv')"
      ],
      "execution_count": 109,
      "outputs": []
    },
    {
      "cell_type": "code",
      "metadata": {
        "id": "tmxHlJUryE7E"
      },
      "source": [
        "#학습 데이터 슬라이싱\n",
        "x = train.iloc[:,:-1] # x_train = train.drop('label', axis=1)\n",
        "y = train.iloc[:,-1]  # y_train = train['label']"
      ],
      "execution_count": 110,
      "outputs": []
    },
    {
      "cell_type": "code",
      "metadata": {
        "colab": {
          "base_uri": "https://localhost:8080/"
        },
        "id": "jSuClR050ouj",
        "outputId": "5120b2e9-191e-4e2f-b0fa-8005f96e62ae"
      },
      "source": [
        "#실수화 ('label'문자열을 실수화)\n",
        "classle = LabelEncoder()\n",
        "y = classle.fit_transform(y) \n",
        "print(np.unique(y)) "
      ],
      "execution_count": 111,
      "outputs": [
        {
          "output_type": "stream",
          "text": [
            "[ 0  1  2  3  4  5  6  7  8  9 10 11 12 13 14 15 16 17 18 19 20 21]\n"
          ],
          "name": "stdout"
        }
      ]
    },
    {
      "cell_type": "code",
      "metadata": {
        "colab": {
          "base_uri": "https://localhost:8080/"
        },
        "id": "OI-hVwFY2Xrk",
        "outputId": "736d7309-de20-496a-e844-c787399a779e"
      },
      "source": [
        "#KNN 모델 학습\n",
        "knn = KNeighborsClassifier(n_neighbors=5, p=2)\n",
        "knn.fit(x, y)"
      ],
      "execution_count": 112,
      "outputs": [
        {
          "output_type": "execute_result",
          "data": {
            "text/plain": [
              "KNeighborsClassifier(algorithm='auto', leaf_size=30, metric='minkowski',\n",
              "                     metric_params=None, n_jobs=None, n_neighbors=5, p=2,\n",
              "                     weights='uniform')"
            ]
          },
          "metadata": {
            "tags": []
          },
          "execution_count": 112
        }
      ]
    },
    {
      "cell_type": "code",
      "metadata": {
        "id": "GkRek1Az4jjE"
      },
      "source": [
        "#KNN 모델 적용\n",
        "y_pred = knn.predict(test)\n",
        "y_pred"
      ],
      "execution_count": null,
      "outputs": []
    },
    {
      "cell_type": "code",
      "metadata": {
        "colab": {
          "base_uri": "https://localhost:8080/",
          "height": 490
        },
        "id": "Zgy5-04b4wpT",
        "outputId": "29f5b855-125a-4588-b0b9-b84b300373f2"
      },
      "source": [
        "y_pred = classle.inverse_transform(y_pred)\n",
        "\n",
        "for i in range(len(y_pred)):\n",
        "  submit['label'][i] = (y_pred[i])\n",
        "\n",
        "submit"
      ],
      "execution_count": 114,
      "outputs": [
        {
          "output_type": "stream",
          "text": [
            "/usr/local/lib/python3.7/dist-packages/ipykernel_launcher.py:4: SettingWithCopyWarning: \n",
            "A value is trying to be set on a copy of a slice from a DataFrame\n",
            "\n",
            "See the caveats in the documentation: https://pandas.pydata.org/pandas-docs/stable/user_guide/indexing.html#returning-a-view-versus-a-copy\n",
            "  after removing the cwd from sys.path.\n"
          ],
          "name": "stderr"
        },
        {
          "output_type": "execute_result",
          "data": {
            "text/html": [
              "<div>\n",
              "<style scoped>\n",
              "    .dataframe tbody tr th:only-of-type {\n",
              "        vertical-align: middle;\n",
              "    }\n",
              "\n",
              "    .dataframe tbody tr th {\n",
              "        vertical-align: top;\n",
              "    }\n",
              "\n",
              "    .dataframe thead th {\n",
              "        text-align: right;\n",
              "    }\n",
              "</style>\n",
              "<table border=\"1\" class=\"dataframe\">\n",
              "  <thead>\n",
              "    <tr style=\"text-align: right;\">\n",
              "      <th></th>\n",
              "      <th>id</th>\n",
              "      <th>label</th>\n",
              "    </tr>\n",
              "  </thead>\n",
              "  <tbody>\n",
              "    <tr>\n",
              "      <th>0</th>\n",
              "      <td>0</td>\n",
              "      <td>muskmelon</td>\n",
              "    </tr>\n",
              "    <tr>\n",
              "      <th>1</th>\n",
              "      <td>1</td>\n",
              "      <td>watermelon</td>\n",
              "    </tr>\n",
              "    <tr>\n",
              "      <th>2</th>\n",
              "      <td>2</td>\n",
              "      <td>papaya</td>\n",
              "    </tr>\n",
              "    <tr>\n",
              "      <th>3</th>\n",
              "      <td>3</td>\n",
              "      <td>papaya</td>\n",
              "    </tr>\n",
              "    <tr>\n",
              "      <th>4</th>\n",
              "      <td>4</td>\n",
              "      <td>apple</td>\n",
              "    </tr>\n",
              "    <tr>\n",
              "      <th>...</th>\n",
              "      <td>...</td>\n",
              "      <td>...</td>\n",
              "    </tr>\n",
              "    <tr>\n",
              "      <th>545</th>\n",
              "      <td>545</td>\n",
              "      <td>coffee</td>\n",
              "    </tr>\n",
              "    <tr>\n",
              "      <th>546</th>\n",
              "      <td>546</td>\n",
              "      <td>papaya</td>\n",
              "    </tr>\n",
              "    <tr>\n",
              "      <th>547</th>\n",
              "      <td>547</td>\n",
              "      <td>chickpea</td>\n",
              "    </tr>\n",
              "    <tr>\n",
              "      <th>548</th>\n",
              "      <td>548</td>\n",
              "      <td>coffee</td>\n",
              "    </tr>\n",
              "    <tr>\n",
              "      <th>549</th>\n",
              "      <td>549</td>\n",
              "      <td>jute</td>\n",
              "    </tr>\n",
              "  </tbody>\n",
              "</table>\n",
              "<p>550 rows × 2 columns</p>\n",
              "</div>"
            ],
            "text/plain": [
              "      id       label\n",
              "0      0   muskmelon\n",
              "1      1  watermelon\n",
              "2      2      papaya\n",
              "3      3      papaya\n",
              "4      4       apple\n",
              "..   ...         ...\n",
              "545  545      coffee\n",
              "546  546      papaya\n",
              "547  547    chickpea\n",
              "548  548      coffee\n",
              "549  549        jute\n",
              "\n",
              "[550 rows x 2 columns]"
            ]
          },
          "metadata": {
            "tags": []
          },
          "execution_count": 114
        }
      ]
    },
    {
      "cell_type": "code",
      "metadata": {
        "id": "sRjweKaV6AUj"
      },
      "source": [
        "submit.to_csv('submit_18012576.csv',index=False)"
      ],
      "execution_count": 115,
      "outputs": []
    }
  ]
}