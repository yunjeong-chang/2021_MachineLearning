{
  "nbformat": 4,
  "nbformat_minor": 0,
  "metadata": {
    "colab": {
      "name": "7주차_Assignment2_당뇨병 예측.ipynb",
      "provenance": [],
      "authorship_tag": "ABX9TyMPidhWNvuUIRbhqVowd5tJ",
      "include_colab_link": true
    },
    "kernelspec": {
      "name": "python3",
      "display_name": "Python 3"
    },
    "language_info": {
      "name": "python"
    }
  },
  "cells": [
    {
      "cell_type": "markdown",
      "metadata": {
        "id": "view-in-github",
        "colab_type": "text"
      },
      "source": [
        "<a href=\"https://colab.research.google.com/github/yunjeong-chang/2021_MachineLearning/blob/main/7%EC%A3%BC%EC%B0%A8_Assignment2_%EB%8B%B9%EB%87%A8%EB%B3%91%20%EC%98%88%EC%B8%A1.ipynb\" target=\"_parent\"><img src=\"https://colab.research.google.com/assets/colab-badge.svg\" alt=\"Open In Colab\"/></a>"
      ]
    },
    {
      "cell_type": "markdown",
      "metadata": {
        "id": "8TbHO2vbyMLA"
      },
      "source": [
        "# **<이차판별분석 (QDA)>**\n",
        "\n",
        "**: 당뇨병 예측** (당뇨병이면 1, 당뇨병이 아니면 0으로 라벨링하는 문제)"
      ]
    },
    {
      "cell_type": "markdown",
      "metadata": {
        "id": "xj-gnTHAyy8T"
      },
      "source": [
        "* **데이터셋 설명**\n",
        "  - Pregnancies : 임신 횟수\n",
        "  - Glucose : 글루코오스(탄수화물 화합물)\n",
        "  - BloodPressure : 혈압\n",
        "  - SkinThickness : 피부 두께\n",
        "  - Insulin : 인슐린 수치\n",
        "  - BMI : BMI 지수\n",
        "  - DiabetesPedigreeFunction : 가족력\n",
        "  - Age : 나이\n",
        "  - Diabetes : 당뇨병이면 1, 당뇨병이아니면 0\n"
      ]
    },
    {
      "cell_type": "markdown",
      "metadata": {
        "id": "b-nJtFauzCfI"
      },
      "source": [
        "* **데이터파일 설명**\n",
        "  - **data.csv** : 당뇨병 데이터 + 당뇨병 보유 여부(0 or 1)\n",
        "  - **X_test.csv** : 당뇨병 보유 여부외에는 train 데이터와 동일\n",
        "  - **submit.csv** : submission 파일의 예시 (평가는 ACC 스코어)"
      ]
    },
    {
      "cell_type": "code",
      "metadata": {
        "id": "pjdh3XLlyDuz"
      },
      "source": [
        "import pandas as pd\n",
        "import numpy as np"
      ],
      "execution_count": 56,
      "outputs": []
    },
    {
      "cell_type": "code",
      "metadata": {
        "id": "--T4BWHr0bpb"
      },
      "source": [
        "train = pd.read_csv('/content/data.csv')\n",
        "test_x = pd.read_csv('/content/X_test.csv')\n",
        "submit = pd.read_csv('/content/submit.csv')"
      ],
      "execution_count": 57,
      "outputs": []
    },
    {
      "cell_type": "code",
      "metadata": {
        "colab": {
          "base_uri": "https://localhost:8080/",
          "height": 419
        },
        "id": "3gXa461k0rfT",
        "outputId": "5b6724a4-4b9d-4141-f13d-988fc5886097"
      },
      "source": [
        "train"
      ],
      "execution_count": 58,
      "outputs": [
        {
          "output_type": "execute_result",
          "data": {
            "text/html": [
              "<div>\n",
              "<style scoped>\n",
              "    .dataframe tbody tr th:only-of-type {\n",
              "        vertical-align: middle;\n",
              "    }\n",
              "\n",
              "    .dataframe tbody tr th {\n",
              "        vertical-align: top;\n",
              "    }\n",
              "\n",
              "    .dataframe thead th {\n",
              "        text-align: right;\n",
              "    }\n",
              "</style>\n",
              "<table border=\"1\" class=\"dataframe\">\n",
              "  <thead>\n",
              "    <tr style=\"text-align: right;\">\n",
              "      <th></th>\n",
              "      <th>Pregnancies</th>\n",
              "      <th>Glucose</th>\n",
              "      <th>BloodPressure</th>\n",
              "      <th>SkinThickness</th>\n",
              "      <th>Insulin</th>\n",
              "      <th>BMI</th>\n",
              "      <th>DiabetesPedigreeFunction</th>\n",
              "      <th>Age</th>\n",
              "      <th>Diabetes</th>\n",
              "    </tr>\n",
              "  </thead>\n",
              "  <tbody>\n",
              "    <tr>\n",
              "      <th>0</th>\n",
              "      <td>1</td>\n",
              "      <td>95</td>\n",
              "      <td>60</td>\n",
              "      <td>18</td>\n",
              "      <td>58</td>\n",
              "      <td>23.9</td>\n",
              "      <td>0.260</td>\n",
              "      <td>22</td>\n",
              "      <td>0</td>\n",
              "    </tr>\n",
              "    <tr>\n",
              "      <th>1</th>\n",
              "      <td>5</td>\n",
              "      <td>105</td>\n",
              "      <td>72</td>\n",
              "      <td>29</td>\n",
              "      <td>325</td>\n",
              "      <td>36.9</td>\n",
              "      <td>0.159</td>\n",
              "      <td>28</td>\n",
              "      <td>0</td>\n",
              "    </tr>\n",
              "    <tr>\n",
              "      <th>2</th>\n",
              "      <td>0</td>\n",
              "      <td>135</td>\n",
              "      <td>68</td>\n",
              "      <td>42</td>\n",
              "      <td>250</td>\n",
              "      <td>42.3</td>\n",
              "      <td>0.365</td>\n",
              "      <td>24</td>\n",
              "      <td>1</td>\n",
              "    </tr>\n",
              "    <tr>\n",
              "      <th>3</th>\n",
              "      <td>4</td>\n",
              "      <td>131</td>\n",
              "      <td>68</td>\n",
              "      <td>21</td>\n",
              "      <td>166</td>\n",
              "      <td>33.1</td>\n",
              "      <td>0.160</td>\n",
              "      <td>28</td>\n",
              "      <td>0</td>\n",
              "    </tr>\n",
              "    <tr>\n",
              "      <th>4</th>\n",
              "      <td>1</td>\n",
              "      <td>103</td>\n",
              "      <td>30</td>\n",
              "      <td>38</td>\n",
              "      <td>83</td>\n",
              "      <td>43.3</td>\n",
              "      <td>0.183</td>\n",
              "      <td>33</td>\n",
              "      <td>0</td>\n",
              "    </tr>\n",
              "    <tr>\n",
              "      <th>...</th>\n",
              "      <td>...</td>\n",
              "      <td>...</td>\n",
              "      <td>...</td>\n",
              "      <td>...</td>\n",
              "      <td>...</td>\n",
              "      <td>...</td>\n",
              "      <td>...</td>\n",
              "      <td>...</td>\n",
              "      <td>...</td>\n",
              "    </tr>\n",
              "    <tr>\n",
              "      <th>532</th>\n",
              "      <td>5</td>\n",
              "      <td>139</td>\n",
              "      <td>64</td>\n",
              "      <td>35</td>\n",
              "      <td>140</td>\n",
              "      <td>28.6</td>\n",
              "      <td>0.411</td>\n",
              "      <td>26</td>\n",
              "      <td>0</td>\n",
              "    </tr>\n",
              "    <tr>\n",
              "      <th>533</th>\n",
              "      <td>1</td>\n",
              "      <td>96</td>\n",
              "      <td>122</td>\n",
              "      <td>0</td>\n",
              "      <td>0</td>\n",
              "      <td>22.4</td>\n",
              "      <td>0.207</td>\n",
              "      <td>27</td>\n",
              "      <td>0</td>\n",
              "    </tr>\n",
              "    <tr>\n",
              "      <th>534</th>\n",
              "      <td>10</td>\n",
              "      <td>101</td>\n",
              "      <td>86</td>\n",
              "      <td>37</td>\n",
              "      <td>0</td>\n",
              "      <td>45.6</td>\n",
              "      <td>1.136</td>\n",
              "      <td>38</td>\n",
              "      <td>1</td>\n",
              "    </tr>\n",
              "    <tr>\n",
              "      <th>535</th>\n",
              "      <td>0</td>\n",
              "      <td>141</td>\n",
              "      <td>0</td>\n",
              "      <td>0</td>\n",
              "      <td>0</td>\n",
              "      <td>42.4</td>\n",
              "      <td>0.205</td>\n",
              "      <td>29</td>\n",
              "      <td>1</td>\n",
              "    </tr>\n",
              "    <tr>\n",
              "      <th>536</th>\n",
              "      <td>0</td>\n",
              "      <td>125</td>\n",
              "      <td>96</td>\n",
              "      <td>0</td>\n",
              "      <td>0</td>\n",
              "      <td>22.5</td>\n",
              "      <td>0.262</td>\n",
              "      <td>21</td>\n",
              "      <td>0</td>\n",
              "    </tr>\n",
              "  </tbody>\n",
              "</table>\n",
              "<p>537 rows × 9 columns</p>\n",
              "</div>"
            ],
            "text/plain": [
              "     Pregnancies  Glucose  ...  Age  Diabetes\n",
              "0              1       95  ...   22         0\n",
              "1              5      105  ...   28         0\n",
              "2              0      135  ...   24         1\n",
              "3              4      131  ...   28         0\n",
              "4              1      103  ...   33         0\n",
              "..           ...      ...  ...  ...       ...\n",
              "532            5      139  ...   26         0\n",
              "533            1       96  ...   27         0\n",
              "534           10      101  ...   38         1\n",
              "535            0      141  ...   29         1\n",
              "536            0      125  ...   21         0\n",
              "\n",
              "[537 rows x 9 columns]"
            ]
          },
          "metadata": {
            "tags": []
          },
          "execution_count": 58
        }
      ]
    },
    {
      "cell_type": "code",
      "metadata": {
        "id": "0wLbsTVX0sev"
      },
      "source": [
        "train_x = train.drop('Diabetes', axis=1)\n",
        "train_y = train['Diabetes']"
      ],
      "execution_count": 59,
      "outputs": []
    },
    {
      "cell_type": "markdown",
      "metadata": {
        "id": "gm9Qf7LQ6Ax5"
      },
      "source": [
        "# 데이터 살펴보기"
      ]
    },
    {
      "cell_type": "code",
      "metadata": {
        "colab": {
          "base_uri": "https://localhost:8080/",
          "height": 419
        },
        "id": "v2bKdcLP5rQE",
        "outputId": "ee975f6d-949f-40a8-c57b-45cd3567e510"
      },
      "source": [
        "train_x"
      ],
      "execution_count": 60,
      "outputs": [
        {
          "output_type": "execute_result",
          "data": {
            "text/html": [
              "<div>\n",
              "<style scoped>\n",
              "    .dataframe tbody tr th:only-of-type {\n",
              "        vertical-align: middle;\n",
              "    }\n",
              "\n",
              "    .dataframe tbody tr th {\n",
              "        vertical-align: top;\n",
              "    }\n",
              "\n",
              "    .dataframe thead th {\n",
              "        text-align: right;\n",
              "    }\n",
              "</style>\n",
              "<table border=\"1\" class=\"dataframe\">\n",
              "  <thead>\n",
              "    <tr style=\"text-align: right;\">\n",
              "      <th></th>\n",
              "      <th>Pregnancies</th>\n",
              "      <th>Glucose</th>\n",
              "      <th>BloodPressure</th>\n",
              "      <th>SkinThickness</th>\n",
              "      <th>Insulin</th>\n",
              "      <th>BMI</th>\n",
              "      <th>DiabetesPedigreeFunction</th>\n",
              "      <th>Age</th>\n",
              "    </tr>\n",
              "  </thead>\n",
              "  <tbody>\n",
              "    <tr>\n",
              "      <th>0</th>\n",
              "      <td>1</td>\n",
              "      <td>95</td>\n",
              "      <td>60</td>\n",
              "      <td>18</td>\n",
              "      <td>58</td>\n",
              "      <td>23.9</td>\n",
              "      <td>0.260</td>\n",
              "      <td>22</td>\n",
              "    </tr>\n",
              "    <tr>\n",
              "      <th>1</th>\n",
              "      <td>5</td>\n",
              "      <td>105</td>\n",
              "      <td>72</td>\n",
              "      <td>29</td>\n",
              "      <td>325</td>\n",
              "      <td>36.9</td>\n",
              "      <td>0.159</td>\n",
              "      <td>28</td>\n",
              "    </tr>\n",
              "    <tr>\n",
              "      <th>2</th>\n",
              "      <td>0</td>\n",
              "      <td>135</td>\n",
              "      <td>68</td>\n",
              "      <td>42</td>\n",
              "      <td>250</td>\n",
              "      <td>42.3</td>\n",
              "      <td>0.365</td>\n",
              "      <td>24</td>\n",
              "    </tr>\n",
              "    <tr>\n",
              "      <th>3</th>\n",
              "      <td>4</td>\n",
              "      <td>131</td>\n",
              "      <td>68</td>\n",
              "      <td>21</td>\n",
              "      <td>166</td>\n",
              "      <td>33.1</td>\n",
              "      <td>0.160</td>\n",
              "      <td>28</td>\n",
              "    </tr>\n",
              "    <tr>\n",
              "      <th>4</th>\n",
              "      <td>1</td>\n",
              "      <td>103</td>\n",
              "      <td>30</td>\n",
              "      <td>38</td>\n",
              "      <td>83</td>\n",
              "      <td>43.3</td>\n",
              "      <td>0.183</td>\n",
              "      <td>33</td>\n",
              "    </tr>\n",
              "    <tr>\n",
              "      <th>...</th>\n",
              "      <td>...</td>\n",
              "      <td>...</td>\n",
              "      <td>...</td>\n",
              "      <td>...</td>\n",
              "      <td>...</td>\n",
              "      <td>...</td>\n",
              "      <td>...</td>\n",
              "      <td>...</td>\n",
              "    </tr>\n",
              "    <tr>\n",
              "      <th>532</th>\n",
              "      <td>5</td>\n",
              "      <td>139</td>\n",
              "      <td>64</td>\n",
              "      <td>35</td>\n",
              "      <td>140</td>\n",
              "      <td>28.6</td>\n",
              "      <td>0.411</td>\n",
              "      <td>26</td>\n",
              "    </tr>\n",
              "    <tr>\n",
              "      <th>533</th>\n",
              "      <td>1</td>\n",
              "      <td>96</td>\n",
              "      <td>122</td>\n",
              "      <td>0</td>\n",
              "      <td>0</td>\n",
              "      <td>22.4</td>\n",
              "      <td>0.207</td>\n",
              "      <td>27</td>\n",
              "    </tr>\n",
              "    <tr>\n",
              "      <th>534</th>\n",
              "      <td>10</td>\n",
              "      <td>101</td>\n",
              "      <td>86</td>\n",
              "      <td>37</td>\n",
              "      <td>0</td>\n",
              "      <td>45.6</td>\n",
              "      <td>1.136</td>\n",
              "      <td>38</td>\n",
              "    </tr>\n",
              "    <tr>\n",
              "      <th>535</th>\n",
              "      <td>0</td>\n",
              "      <td>141</td>\n",
              "      <td>0</td>\n",
              "      <td>0</td>\n",
              "      <td>0</td>\n",
              "      <td>42.4</td>\n",
              "      <td>0.205</td>\n",
              "      <td>29</td>\n",
              "    </tr>\n",
              "    <tr>\n",
              "      <th>536</th>\n",
              "      <td>0</td>\n",
              "      <td>125</td>\n",
              "      <td>96</td>\n",
              "      <td>0</td>\n",
              "      <td>0</td>\n",
              "      <td>22.5</td>\n",
              "      <td>0.262</td>\n",
              "      <td>21</td>\n",
              "    </tr>\n",
              "  </tbody>\n",
              "</table>\n",
              "<p>537 rows × 8 columns</p>\n",
              "</div>"
            ],
            "text/plain": [
              "     Pregnancies  Glucose  BloodPressure  ...   BMI  DiabetesPedigreeFunction  Age\n",
              "0              1       95             60  ...  23.9                     0.260   22\n",
              "1              5      105             72  ...  36.9                     0.159   28\n",
              "2              0      135             68  ...  42.3                     0.365   24\n",
              "3              4      131             68  ...  33.1                     0.160   28\n",
              "4              1      103             30  ...  43.3                     0.183   33\n",
              "..           ...      ...            ...  ...   ...                       ...  ...\n",
              "532            5      139             64  ...  28.6                     0.411   26\n",
              "533            1       96            122  ...  22.4                     0.207   27\n",
              "534           10      101             86  ...  45.6                     1.136   38\n",
              "535            0      141              0  ...  42.4                     0.205   29\n",
              "536            0      125             96  ...  22.5                     0.262   21\n",
              "\n",
              "[537 rows x 8 columns]"
            ]
          },
          "metadata": {
            "tags": []
          },
          "execution_count": 60
        }
      ]
    },
    {
      "cell_type": "code",
      "metadata": {
        "colab": {
          "base_uri": "https://localhost:8080/"
        },
        "id": "XDryci3b5stA",
        "outputId": "10008a50-f4ba-4818-f01c-462b128f120f"
      },
      "source": [
        "train_y"
      ],
      "execution_count": 61,
      "outputs": [
        {
          "output_type": "execute_result",
          "data": {
            "text/plain": [
              "0      0\n",
              "1      0\n",
              "2      1\n",
              "3      0\n",
              "4      0\n",
              "      ..\n",
              "532    0\n",
              "533    0\n",
              "534    1\n",
              "535    1\n",
              "536    0\n",
              "Name: Diabetes, Length: 537, dtype: int64"
            ]
          },
          "metadata": {
            "tags": []
          },
          "execution_count": 61
        }
      ]
    },
    {
      "cell_type": "code",
      "metadata": {
        "colab": {
          "base_uri": "https://localhost:8080/",
          "height": 419
        },
        "id": "fH--2rf05uAP",
        "outputId": "9178ba03-bdd6-4684-9e76-2cdf69be1f35"
      },
      "source": [
        "test_x"
      ],
      "execution_count": 62,
      "outputs": [
        {
          "output_type": "execute_result",
          "data": {
            "text/html": [
              "<div>\n",
              "<style scoped>\n",
              "    .dataframe tbody tr th:only-of-type {\n",
              "        vertical-align: middle;\n",
              "    }\n",
              "\n",
              "    .dataframe tbody tr th {\n",
              "        vertical-align: top;\n",
              "    }\n",
              "\n",
              "    .dataframe thead th {\n",
              "        text-align: right;\n",
              "    }\n",
              "</style>\n",
              "<table border=\"1\" class=\"dataframe\">\n",
              "  <thead>\n",
              "    <tr style=\"text-align: right;\">\n",
              "      <th></th>\n",
              "      <th>Pregnancies</th>\n",
              "      <th>Glucose</th>\n",
              "      <th>BloodPressure</th>\n",
              "      <th>SkinThickness</th>\n",
              "      <th>Insulin</th>\n",
              "      <th>BMI</th>\n",
              "      <th>DiabetesPedigreeFunction</th>\n",
              "      <th>Age</th>\n",
              "    </tr>\n",
              "  </thead>\n",
              "  <tbody>\n",
              "    <tr>\n",
              "      <th>0</th>\n",
              "      <td>6</td>\n",
              "      <td>98</td>\n",
              "      <td>58</td>\n",
              "      <td>33</td>\n",
              "      <td>190</td>\n",
              "      <td>34.0</td>\n",
              "      <td>0.430</td>\n",
              "      <td>43</td>\n",
              "    </tr>\n",
              "    <tr>\n",
              "      <th>1</th>\n",
              "      <td>2</td>\n",
              "      <td>112</td>\n",
              "      <td>75</td>\n",
              "      <td>32</td>\n",
              "      <td>0</td>\n",
              "      <td>35.7</td>\n",
              "      <td>0.148</td>\n",
              "      <td>21</td>\n",
              "    </tr>\n",
              "    <tr>\n",
              "      <th>2</th>\n",
              "      <td>2</td>\n",
              "      <td>108</td>\n",
              "      <td>64</td>\n",
              "      <td>0</td>\n",
              "      <td>0</td>\n",
              "      <td>30.8</td>\n",
              "      <td>0.158</td>\n",
              "      <td>21</td>\n",
              "    </tr>\n",
              "    <tr>\n",
              "      <th>3</th>\n",
              "      <td>8</td>\n",
              "      <td>107</td>\n",
              "      <td>80</td>\n",
              "      <td>0</td>\n",
              "      <td>0</td>\n",
              "      <td>24.6</td>\n",
              "      <td>0.856</td>\n",
              "      <td>34</td>\n",
              "    </tr>\n",
              "    <tr>\n",
              "      <th>4</th>\n",
              "      <td>7</td>\n",
              "      <td>136</td>\n",
              "      <td>90</td>\n",
              "      <td>0</td>\n",
              "      <td>0</td>\n",
              "      <td>29.9</td>\n",
              "      <td>0.210</td>\n",
              "      <td>50</td>\n",
              "    </tr>\n",
              "    <tr>\n",
              "      <th>...</th>\n",
              "      <td>...</td>\n",
              "      <td>...</td>\n",
              "      <td>...</td>\n",
              "      <td>...</td>\n",
              "      <td>...</td>\n",
              "      <td>...</td>\n",
              "      <td>...</td>\n",
              "      <td>...</td>\n",
              "    </tr>\n",
              "    <tr>\n",
              "      <th>226</th>\n",
              "      <td>0</td>\n",
              "      <td>119</td>\n",
              "      <td>0</td>\n",
              "      <td>0</td>\n",
              "      <td>0</td>\n",
              "      <td>32.4</td>\n",
              "      <td>0.141</td>\n",
              "      <td>24</td>\n",
              "    </tr>\n",
              "    <tr>\n",
              "      <th>227</th>\n",
              "      <td>4</td>\n",
              "      <td>109</td>\n",
              "      <td>64</td>\n",
              "      <td>44</td>\n",
              "      <td>99</td>\n",
              "      <td>34.8</td>\n",
              "      <td>0.905</td>\n",
              "      <td>26</td>\n",
              "    </tr>\n",
              "    <tr>\n",
              "      <th>228</th>\n",
              "      <td>0</td>\n",
              "      <td>127</td>\n",
              "      <td>80</td>\n",
              "      <td>37</td>\n",
              "      <td>210</td>\n",
              "      <td>36.3</td>\n",
              "      <td>0.804</td>\n",
              "      <td>23</td>\n",
              "    </tr>\n",
              "    <tr>\n",
              "      <th>229</th>\n",
              "      <td>6</td>\n",
              "      <td>105</td>\n",
              "      <td>70</td>\n",
              "      <td>32</td>\n",
              "      <td>68</td>\n",
              "      <td>30.8</td>\n",
              "      <td>0.122</td>\n",
              "      <td>37</td>\n",
              "    </tr>\n",
              "    <tr>\n",
              "      <th>230</th>\n",
              "      <td>5</td>\n",
              "      <td>77</td>\n",
              "      <td>82</td>\n",
              "      <td>41</td>\n",
              "      <td>42</td>\n",
              "      <td>35.8</td>\n",
              "      <td>0.156</td>\n",
              "      <td>35</td>\n",
              "    </tr>\n",
              "  </tbody>\n",
              "</table>\n",
              "<p>231 rows × 8 columns</p>\n",
              "</div>"
            ],
            "text/plain": [
              "     Pregnancies  Glucose  BloodPressure  ...   BMI  DiabetesPedigreeFunction  Age\n",
              "0              6       98             58  ...  34.0                     0.430   43\n",
              "1              2      112             75  ...  35.7                     0.148   21\n",
              "2              2      108             64  ...  30.8                     0.158   21\n",
              "3              8      107             80  ...  24.6                     0.856   34\n",
              "4              7      136             90  ...  29.9                     0.210   50\n",
              "..           ...      ...            ...  ...   ...                       ...  ...\n",
              "226            0      119              0  ...  32.4                     0.141   24\n",
              "227            4      109             64  ...  34.8                     0.905   26\n",
              "228            0      127             80  ...  36.3                     0.804   23\n",
              "229            6      105             70  ...  30.8                     0.122   37\n",
              "230            5       77             82  ...  35.8                     0.156   35\n",
              "\n",
              "[231 rows x 8 columns]"
            ]
          },
          "metadata": {
            "tags": []
          },
          "execution_count": 62
        }
      ]
    },
    {
      "cell_type": "code",
      "metadata": {
        "colab": {
          "base_uri": "https://localhost:8080/"
        },
        "id": "UC7xeoYL5wJx",
        "outputId": "e2779da1-777e-4959-8953-eb63dba079dc"
      },
      "source": [
        "print(train_x.shape)\n",
        "print(train_y.shape)\n",
        "print(test_x.shape)"
      ],
      "execution_count": 63,
      "outputs": [
        {
          "output_type": "stream",
          "text": [
            "(537, 8)\n",
            "(537,)\n",
            "(231, 8)\n"
          ],
          "name": "stdout"
        }
      ]
    },
    {
      "cell_type": "markdown",
      "metadata": {
        "id": "sqTQBvla6DnD"
      },
      "source": [
        "# 데이터 전처리"
      ]
    },
    {
      "cell_type": "code",
      "metadata": {
        "id": "Txkkrzsm6SsG"
      },
      "source": [
        "#표준화\n",
        "from sklearn.preprocessing import StandardScaler\n",
        "scale = StandardScaler()\n",
        "scale.fit(train_x)\n",
        "train_x_std = scale.transform(train_x)\n",
        "test_x_std = scale.transform(test_x)"
      ],
      "execution_count": 64,
      "outputs": []
    },
    {
      "cell_type": "markdown",
      "metadata": {
        "id": "7-RsjoYN6Hba"
      },
      "source": [
        "# 모델"
      ]
    },
    {
      "cell_type": "code",
      "metadata": {
        "colab": {
          "base_uri": "https://localhost:8080/"
        },
        "id": "R1t3aTdT6ZXc",
        "outputId": "2d5f1201-1faf-4560-c294-832d6719e30c"
      },
      "source": [
        "from sklearn.discriminant_analysis import LinearDiscriminantAnalysis\n",
        "from sklearn.discriminant_analysis import QuadraticDiscriminantAnalysis\n",
        "\n",
        "#cld = LinearDiscriminantAnalysis(store_covariance=True)      \n",
        "cqd = QuadraticDiscriminantAnalysis(store_covariance=True)\n",
        "\n",
        "#cld.fit(train_x_std, train_y)\n",
        "cqd.fit(train_x_std, train_y)"
      ],
      "execution_count": 65,
      "outputs": [
        {
          "output_type": "execute_result",
          "data": {
            "text/plain": [
              "QuadraticDiscriminantAnalysis(priors=None, reg_param=0.0, store_covariance=True,\n",
              "                              tol=0.0001)"
            ]
          },
          "metadata": {
            "tags": []
          },
          "execution_count": 65
        }
      ]
    },
    {
      "cell_type": "markdown",
      "metadata": {
        "id": "rxSMyKCl6Izv"
      },
      "source": [
        "# 예측"
      ]
    },
    {
      "cell_type": "code",
      "metadata": {
        "colab": {
          "base_uri": "https://localhost:8080/"
        },
        "id": "DCkylV3T6cOg",
        "outputId": "f8cee739-46e8-483c-916c-ed7da3479ae0"
      },
      "source": [
        "#test_y_pred = cld.predict(test_x_std)\n",
        "test_y_pred = cqd.predict(test_x_std)\n",
        "test_y_pred"
      ],
      "execution_count": 66,
      "outputs": [
        {
          "output_type": "execute_result",
          "data": {
            "text/plain": [
              "array([0, 0, 0, 0, 0, 1, 0, 1, 0, 1, 0, 1, 1, 0, 0, 0, 0, 0, 1, 0, 0, 0,\n",
              "       1, 0, 0, 1, 0, 0, 0, 0, 1, 1, 1, 1, 1, 1, 1, 0, 0, 1, 0, 1, 0, 1,\n",
              "       0, 0, 1, 0, 0, 1, 0, 1, 1, 0, 0, 0, 1, 0, 0, 1, 1, 0, 1, 1, 0, 1,\n",
              "       0, 1, 0, 1, 1, 0, 0, 0, 0, 0, 0, 0, 0, 0, 1, 0, 0, 0, 0, 1, 1, 0,\n",
              "       0, 0, 0, 0, 0, 1, 0, 1, 0, 0, 1, 0, 1, 0, 1, 0, 1, 0, 0, 1, 0, 1,\n",
              "       0, 0, 0, 1, 0, 0, 1, 0, 0, 1, 0, 0, 0, 0, 0, 1, 0, 1, 1, 1, 1, 1,\n",
              "       0, 1, 1, 0, 0, 1, 0, 0, 0, 0, 0, 1, 0, 0, 0, 0, 0, 1, 0, 0, 1, 0,\n",
              "       0, 1, 0, 1, 1, 0, 1, 1, 0, 0, 0, 1, 0, 0, 1, 1, 1, 0, 0, 0, 1, 0,\n",
              "       0, 1, 0, 0, 1, 1, 0, 1, 1, 0, 0, 0, 1, 0, 0, 0, 1, 0, 0, 0, 0, 0,\n",
              "       0, 1, 0, 0, 0, 0, 1, 0, 0, 0, 1, 1, 0, 0, 0, 0, 1, 0, 1, 0, 0, 1,\n",
              "       1, 0, 0, 0, 0, 1, 1, 0, 0, 0, 0])"
            ]
          },
          "metadata": {
            "tags": []
          },
          "execution_count": 66
        }
      ]
    },
    {
      "cell_type": "markdown",
      "metadata": {
        "id": "h3_v5Ml66J5C"
      },
      "source": [
        "# 저장"
      ]
    },
    {
      "cell_type": "code",
      "metadata": {
        "colab": {
          "base_uri": "https://localhost:8080/",
          "height": 419
        },
        "id": "nq0esVvT6eMj",
        "outputId": "eb77d518-a6d7-4343-a75f-b4fb5f08ee48"
      },
      "source": [
        "for i in range(len(test_y_pred)) :\n",
        "  submit['Diabetes'][i] = test_y_pred[i]\n",
        "\n",
        "submit"
      ],
      "execution_count": 67,
      "outputs": [
        {
          "output_type": "execute_result",
          "data": {
            "text/html": [
              "<div>\n",
              "<style scoped>\n",
              "    .dataframe tbody tr th:only-of-type {\n",
              "        vertical-align: middle;\n",
              "    }\n",
              "\n",
              "    .dataframe tbody tr th {\n",
              "        vertical-align: top;\n",
              "    }\n",
              "\n",
              "    .dataframe thead th {\n",
              "        text-align: right;\n",
              "    }\n",
              "</style>\n",
              "<table border=\"1\" class=\"dataframe\">\n",
              "  <thead>\n",
              "    <tr style=\"text-align: right;\">\n",
              "      <th></th>\n",
              "      <th>ID</th>\n",
              "      <th>Diabetes</th>\n",
              "    </tr>\n",
              "  </thead>\n",
              "  <tbody>\n",
              "    <tr>\n",
              "      <th>0</th>\n",
              "      <td>0</td>\n",
              "      <td>0</td>\n",
              "    </tr>\n",
              "    <tr>\n",
              "      <th>1</th>\n",
              "      <td>1</td>\n",
              "      <td>0</td>\n",
              "    </tr>\n",
              "    <tr>\n",
              "      <th>2</th>\n",
              "      <td>2</td>\n",
              "      <td>0</td>\n",
              "    </tr>\n",
              "    <tr>\n",
              "      <th>3</th>\n",
              "      <td>3</td>\n",
              "      <td>0</td>\n",
              "    </tr>\n",
              "    <tr>\n",
              "      <th>4</th>\n",
              "      <td>4</td>\n",
              "      <td>0</td>\n",
              "    </tr>\n",
              "    <tr>\n",
              "      <th>...</th>\n",
              "      <td>...</td>\n",
              "      <td>...</td>\n",
              "    </tr>\n",
              "    <tr>\n",
              "      <th>226</th>\n",
              "      <td>226</td>\n",
              "      <td>1</td>\n",
              "    </tr>\n",
              "    <tr>\n",
              "      <th>227</th>\n",
              "      <td>227</td>\n",
              "      <td>0</td>\n",
              "    </tr>\n",
              "    <tr>\n",
              "      <th>228</th>\n",
              "      <td>228</td>\n",
              "      <td>0</td>\n",
              "    </tr>\n",
              "    <tr>\n",
              "      <th>229</th>\n",
              "      <td>229</td>\n",
              "      <td>0</td>\n",
              "    </tr>\n",
              "    <tr>\n",
              "      <th>230</th>\n",
              "      <td>230</td>\n",
              "      <td>0</td>\n",
              "    </tr>\n",
              "  </tbody>\n",
              "</table>\n",
              "<p>231 rows × 2 columns</p>\n",
              "</div>"
            ],
            "text/plain": [
              "      ID  Diabetes\n",
              "0      0         0\n",
              "1      1         0\n",
              "2      2         0\n",
              "3      3         0\n",
              "4      4         0\n",
              "..   ...       ...\n",
              "226  226         1\n",
              "227  227         0\n",
              "228  228         0\n",
              "229  229         0\n",
              "230  230         0\n",
              "\n",
              "[231 rows x 2 columns]"
            ]
          },
          "metadata": {
            "tags": []
          },
          "execution_count": 67
        }
      ]
    },
    {
      "cell_type": "code",
      "metadata": {
        "id": "mFjNPEzt6fUR"
      },
      "source": [
        "submit.to_csv('당뇨병_18012576.csv', index=False)"
      ],
      "execution_count": 68,
      "outputs": []
    }
  ]
}